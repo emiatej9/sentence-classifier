{
  "nbformat": 4,
  "nbformat_minor": 0,
  "metadata": {
    "colab": {
      "name": "Copy of convolutional_neural_networks_for_sentence_classification.ipynb",
      "provenance": [],
      "machine_shape": "hm",
      "mount_file_id": "1l6mq7e66Kl0VU-Lf-J8Sw2I3AfbCxhUu",
      "authorship_tag": "ABX9TyPidrldYDuh1rvmigE4CXTO",
      "include_colab_link": true
    },
    "kernelspec": {
      "name": "python3",
      "display_name": "Python 3"
    },
    "accelerator": "GPU"
  },
  "cells": [
    {
      "cell_type": "markdown",
      "metadata": {
        "id": "view-in-github",
        "colab_type": "text"
      },
      "source": [
        "<a href=\"https://colab.research.google.com/github/emiatej9/sentence-classifier/blob/master/colab/cnn_yoon_kim_2014.ipynb\" target=\"_parent\"><img src=\"https://colab.research.google.com/assets/colab-badge.svg\" alt=\"Open In Colab\"/></a>"
      ]
    },
    {
      "cell_type": "code",
      "metadata": {
        "id": "jnbnzP8-tCN7",
        "colab_type": "code",
        "colab": {
          "base_uri": "https://localhost:8080/",
          "height": 34
        },
        "outputId": "cb7c48bc-a70b-402b-995a-f3daed6214cc"
      },
      "source": [
        "%tensorflow_version 2.x"
      ],
      "execution_count": 18,
      "outputs": [
        {
          "output_type": "stream",
          "text": [
            "TensorFlow is already loaded. Please restart the runtime to change versions.\n"
          ],
          "name": "stdout"
        }
      ]
    },
    {
      "cell_type": "code",
      "metadata": {
        "id": "xfAzxHwNt2IS",
        "colab_type": "code",
        "colab": {}
      },
      "source": [
        "import json\n",
        "import requests\n",
        "import os\n",
        "import tensorflow as tf\n",
        "import numpy as np\n",
        "\n",
        "git_url = 'https://raw.githubusercontent.com/emiatej9/sentence-classifier/master'\n",
        "\n",
        "tf.keras.backend.clear_session()"
      ],
      "execution_count": 0,
      "outputs": []
    },
    {
      "cell_type": "markdown",
      "metadata": {
        "id": "WH_zdFceNDok",
        "colab_type": "text"
      },
      "source": [
        "# nsmc 데이터셋 다운로드 \n",
        "\n",
        "\n",
        "*   mecab를 이용하여 미리 전처리 된 데이터셋을 다운로드(./data/nsmc)\n",
        "*   문장과 sentences.txt와 긍/부정 라벨 labels.txt을 train, dev, test 별로 저장함\n",
        "\n"
      ]
    },
    {
      "cell_type": "code",
      "metadata": {
        "id": "x5siUFxoGLQM",
        "colab_type": "code",
        "colab": {
          "base_uri": "https://localhost:8080/",
          "height": 34
        },
        "outputId": "b39174e7-fa1b-4676-f680-140ae8f4f09c"
      },
      "source": [
        "dataset_path = 'data/nsmc'\n",
        "dataset_files = {\n",
        "    'train': ('train/sentences.txt', 'train/labels.txt'),\n",
        "    'dev': ('dev/sentences.txt', 'dev/labels.txt'),\n",
        "    'test': ('test/sentences.txt', 'test/labels.txt')}\n",
        "\n",
        "# all dataset splits are loaded into dict object\n",
        "dataset = {\n",
        "    'train': dict(),\n",
        "    'dev': dict(),\n",
        "    'test': dict()\n",
        "}\n",
        "\n",
        "if not os.path.exists(dataset_path):\n",
        "    os.makedirs(dataset_path)\n",
        "\n",
        "for split, files  in dataset_files.items():\n",
        "    _path = f'{dataset_path}/{split}'\n",
        "    if not os.path.exists(_path):\n",
        "        os.makedirs(_path)\n",
        "\n",
        "    with open(f'{_path}/sentences.txt', 'w', encoding='utf-8') as f:\n",
        "        # download dataset from github\n",
        "        _url = f'{git_url}/{dataset_path}/{files[0]}'\n",
        "        _res = requests.get(_url)\n",
        "        assert _res.status_code == 200, _url\n",
        "\n",
        "        # save dataset as txt file\n",
        "        sentences = _res.content.decode('utf-8')\n",
        "        f.write(sentences)\n",
        "        dataset[split]['sentences'] = sentences.split('\\n')\n",
        "        \n",
        "    \n",
        "    with open(f'{_path}/labels.txt', 'w', encoding='utf-8') as f:\n",
        "        _url = f'{git_url}/{dataset_path}/{files[1]}'\n",
        "        _res = requests.get(_url)\n",
        "        assert _res.status_code == 200, _url\n",
        "\n",
        "        labels = _res.content.decode('utf-8')\n",
        "        f.write(labels)\n",
        "        dataset[split]['labels'] = list(map(int, labels.split('\\n')))"
      ],
      "execution_count": 58,
      "outputs": [
        {
          "output_type": "stream",
          "text": [
            "평점 나쁘 않다 더더욱 아니\n"
          ],
          "name": "stdout"
        }
      ]
    },
    {
      "cell_type": "markdown",
      "metadata": {
        "id": "oxnLzzK02ZJW",
        "colab_type": "text"
      },
      "source": [
        "# 파라미터 다운로드\n",
        "\n",
        "*   파라미터 JSON 파일 dataset_params.json, model_params.json, training_params.json 을 ./params 밑에 다운로드\n",
        "* 다운로드 후, 각 JSON 파일을 data_params, model_params, training_params 객체로 초기화.\n",
        "\n"
      ]
    },
    {
      "cell_type": "code",
      "metadata": {
        "id": "ziLpWzCUtqL1",
        "colab_type": "code",
        "colab": {}
      },
      "source": [
        "params_files = ('dataset_params.json', \n",
        "                'model_params.json', \n",
        "                'training_params.json')\n",
        "\n",
        "if not os.path.exists('./params'):\n",
        "    os.makedirs('./params')\n",
        "\n",
        "for params_file in params_files:\n",
        "    _url = f'{git_url}/params/{params_file}'\n",
        "    _res = requests.get(_url)\n",
        "    assert _res.status_code == 200, _url\n",
        "\n",
        "    with open(f'params/{params_file}', 'w', encoding='utf-8') as f:\n",
        "        param_json = _res.content.decode('utf-8')\n",
        "        f.write(param_json)\n",
        "        \n",
        "with open(f'params/dataset_params.json') as f:\n",
        "    data_params = json.load(f)\n",
        "\n",
        "with open(f'params/model_params.json') as f:\n",
        "    model_params = json.load(f)\n",
        "\n",
        "with open(f'params/training_params.json') as f:\n",
        "    training_params = json.load(f)"
      ],
      "execution_count": 0,
      "outputs": []
    },
    {
      "cell_type": "code",
      "metadata": {
        "id": "H9Z-vj11blQp",
        "colab_type": "code",
        "colab": {}
      },
      "source": [
        "if not os.path.exists('./model'):\n",
        "    os.makedirs('./model')\n",
        "\n",
        "# downloads input_fn.py \n",
        "_url = f'{git_url}/model/input_fn.py'\n",
        "_res = requests.get(_url)\n",
        "assert _res.status_code == 200, _url\n",
        "\n",
        "with open(f'model/input_fn.py', 'w', encoding='utf-8') as f:\n",
        "        input_fn_py = _res.content.decode('utf-8')\n",
        "        f.write(input_fn_py)\n",
        "\n",
        "# downloads model_fn.py\n",
        "_url = f'{git_url}/model/model_fn.py'\n",
        "_res = requests.get(_url)\n",
        "assert _res.status_code == 200, _url\n",
        "\n",
        "with open(f'model/model_fn.py', 'w', encoding='utf-8') as f:\n",
        "        model_fn_py = _res.content.decode('utf-8')\n",
        "        f.write(model_fn_py)\n",
        "        \n",
        "from model.input_fn import input_fn\n",
        "from model.model_fn import model_fn"
      ],
      "execution_count": 0,
      "outputs": []
    },
    {
      "cell_type": "markdown",
      "metadata": {
        "id": "uzd-sfOC5pz_",
        "colab_type": "text"
      },
      "source": [
        "# 데이터 정수 인코딩\n",
        "\n",
        "\n",
        "*   input_fn에서 각 단어를 정수 형태로 인코딩하여, 문장을 벡터로 변환 후 동일한 길이로 padding 처리.\n",
        "*   vocab의 크기와 문장 벡터의 차원은 data_params['vocab_size']과 data_params['max_sentence_length']을 이용.\n",
        "*   긍정(1)과 부정(0) label은 바로 numpy 형태로 변환\n",
        "\n"
      ]
    },
    {
      "cell_type": "code",
      "metadata": {
        "id": "GzI1IEHT5Wfn",
        "colab_type": "code",
        "colab": {}
      },
      "source": [
        "training_sentences = input_fn(dataset['train']['sentences'], data_params)\n",
        "training_labels = np.asarray([int(label) for label in dataset['train']['labels']])\n",
        "dev_sentences = input_fn(dataset['dev']['sentences'], data_params)\n",
        "dev_labels = np.asarray([int(label) for label in dataset['dev']['labels']])"
      ],
      "execution_count": 0,
      "outputs": []
    },
    {
      "cell_type": "markdown",
      "metadata": {
        "id": "1B0EyeF87P7v",
        "colab_type": "text"
      },
      "source": [
        "# 모델 생성"
      ]
    },
    {
      "cell_type": "code",
      "metadata": {
        "id": "StefzCyItby2",
        "colab_type": "code",
        "colab": {
          "base_uri": "https://localhost:8080/",
          "height": 190
        },
        "outputId": "ea90e3ce-6213-4611-a05c-ec22195b1824"
      },
      "source": [
        "model = model_fn(data_params, model_params)\n",
        "model.compile(loss='binary_crossentropy', optimizer='adam', metrics=['accuracy'])\n",
        "# print(model.summary())"
      ],
      "execution_count": 65,
      "outputs": [
        {
          "output_type": "stream",
          "text": [
            "WARNING:tensorflow:From /usr/local/lib/python3.6/dist-packages/tensorflow_core/python/keras/initializers.py:119: calling RandomUniform.__init__ (from tensorflow.python.ops.init_ops) with dtype is deprecated and will be removed in a future version.\n",
            "Instructions for updating:\n",
            "Call initializer instance with the dtype argument instead of passing it to the constructor\n",
            "WARNING:tensorflow:From /usr/local/lib/python3.6/dist-packages/tensorflow_core/python/ops/resource_variable_ops.py:1630: calling BaseResourceVariable.__init__ (from tensorflow.python.ops.resource_variable_ops) with constraint is deprecated and will be removed in a future version.\n",
            "Instructions for updating:\n",
            "If using Keras pass *_constraint arguments to layers.\n",
            "WARNING:tensorflow:From /usr/local/lib/python3.6/dist-packages/tensorflow_core/python/ops/nn_impl.py:183: where (from tensorflow.python.ops.array_ops) is deprecated and will be removed in a future version.\n",
            "Instructions for updating:\n",
            "Use tf.where in 2.0, which has the same broadcast rule as np.where\n"
          ],
          "name": "stdout"
        }
      ]
    },
    {
      "cell_type": "markdown",
      "metadata": {
        "id": "IUZA7YLg7eLa",
        "colab_type": "text"
      },
      "source": [
        "# 모델 학습"
      ]
    },
    {
      "cell_type": "code",
      "metadata": {
        "id": "6Przx2gE3OML",
        "colab_type": "code",
        "outputId": "ce4ba7fa-6e33-4d64-d1cf-29a1527f65cf",
        "colab": {
          "base_uri": "https://localhost:8080/",
          "height": 1000
        }
      },
      "source": [
        "batch_size = training_params['batch_size']\n",
        "epochs = training_params['epochs']\n",
        "\n",
        "with tf.device('/GPU:0'):\n",
        "    history = model.fit(training_sentences, training_labels, \n",
        "                        batch_size=batch_size,\n",
        "                        epochs=epochs,\n",
        "                        validation_data=(dev_sentences, dev_labels),\n",
        "                        shuffle=True)"
      ],
      "execution_count": 0,
      "outputs": [
        {
          "output_type": "stream",
          "text": [
            "Train on 136630 samples, validate on 29278 samples\n",
            "Epoch 1/30\n",
            "136630/136630 [==============================] - 43s 316us/sample - loss: 0.7103 - accuracy: 0.5135 - val_loss: 0.7054 - val_accuracy: 0.5593\n",
            "Epoch 2/30\n",
            "136630/136630 [==============================] - 41s 303us/sample - loss: 0.6300 - accuracy: 0.7216 - val_loss: 0.8450 - val_accuracy: 0.5645\n",
            "Epoch 3/30\n",
            "136630/136630 [==============================] - 42s 306us/sample - loss: 0.5685 - accuracy: 0.7856 - val_loss: 0.8573 - val_accuracy: 0.5560\n",
            "Epoch 4/30\n",
            "136630/136630 [==============================] - 42s 305us/sample - loss: 0.5489 - accuracy: 0.8019 - val_loss: 0.9305 - val_accuracy: 0.5571\n",
            "Epoch 5/30\n",
            "136630/136630 [==============================] - 41s 303us/sample - loss: 0.5457 - accuracy: 0.8058 - val_loss: 1.0686 - val_accuracy: 0.5487\n",
            "Epoch 6/30\n",
            "136630/136630 [==============================] - 41s 303us/sample - loss: 0.5446 - accuracy: 0.8096 - val_loss: 0.9358 - val_accuracy: 0.5454\n",
            "Epoch 7/30\n",
            "136630/136630 [==============================] - 41s 302us/sample - loss: 0.5444 - accuracy: 0.8106 - val_loss: 1.0125 - val_accuracy: 0.5538\n",
            "Epoch 8/30\n",
            "136630/136630 [==============================] - 42s 307us/sample - loss: 0.5419 - accuracy: 0.8111 - val_loss: 1.0502 - val_accuracy: 0.5441\n",
            "Epoch 9/30\n",
            "136630/136630 [==============================] - 41s 301us/sample - loss: 0.5408 - accuracy: 0.8121 - val_loss: 1.0164 - val_accuracy: 0.5479\n",
            "Epoch 10/30\n",
            "136630/136630 [==============================] - 41s 302us/sample - loss: 0.5436 - accuracy: 0.8117 - val_loss: 1.0905 - val_accuracy: 0.5452\n",
            "Epoch 11/30\n",
            "136630/136630 [==============================] - 41s 303us/sample - loss: 0.5395 - accuracy: 0.8140 - val_loss: 1.0510 - val_accuracy: 0.5500\n",
            "Epoch 12/30\n",
            "136630/136630 [==============================] - 41s 304us/sample - loss: 0.5397 - accuracy: 0.8149 - val_loss: 1.0830 - val_accuracy: 0.5482\n",
            "Epoch 13/30\n",
            "136630/136630 [==============================] - 41s 302us/sample - loss: 0.5388 - accuracy: 0.8132 - val_loss: 1.0158 - val_accuracy: 0.5523\n",
            "Epoch 14/30\n",
            "136630/136630 [==============================] - 41s 302us/sample - loss: 0.5351 - accuracy: 0.8131 - val_loss: 1.0346 - val_accuracy: 0.5498\n",
            "Epoch 15/30\n",
            "136630/136630 [==============================] - 41s 302us/sample - loss: 0.5350 - accuracy: 0.8107 - val_loss: 1.0466 - val_accuracy: 0.5502\n",
            "Epoch 16/30\n",
            "136630/136630 [==============================] - 42s 307us/sample - loss: 0.5343 - accuracy: 0.8115 - val_loss: 1.0291 - val_accuracy: 0.5467\n",
            "Epoch 17/30\n",
            "136630/136630 [==============================] - 41s 301us/sample - loss: 0.5326 - accuracy: 0.8124 - val_loss: 1.1389 - val_accuracy: 0.5491\n",
            "Epoch 18/30\n",
            "136630/136630 [==============================] - 41s 302us/sample - loss: 0.5332 - accuracy: 0.8126 - val_loss: 1.1250 - val_accuracy: 0.5471\n",
            "Epoch 19/30\n",
            "136630/136630 [==============================] - 41s 303us/sample - loss: 0.5337 - accuracy: 0.8123 - val_loss: 1.0987 - val_accuracy: 0.5420\n",
            "Epoch 20/30\n",
            "136630/136630 [==============================] - 41s 300us/sample - loss: 0.5307 - accuracy: 0.8140 - val_loss: 0.9217 - val_accuracy: 0.5473\n",
            "Epoch 21/30\n",
            "136630/136630 [==============================] - 41s 301us/sample - loss: 0.5327 - accuracy: 0.8145 - val_loss: 0.9484 - val_accuracy: 0.5490\n",
            "Epoch 22/30\n",
            "136630/136630 [==============================] - 41s 299us/sample - loss: 0.5294 - accuracy: 0.8134 - val_loss: 1.1319 - val_accuracy: 0.5463\n",
            "Epoch 23/30\n",
            "136630/136630 [==============================] - 42s 304us/sample - loss: 0.5299 - accuracy: 0.8140 - val_loss: 1.0507 - val_accuracy: 0.5467\n",
            "Epoch 24/30\n",
            "136630/136630 [==============================] - 41s 299us/sample - loss: 0.5303 - accuracy: 0.8152 - val_loss: 0.9448 - val_accuracy: 0.5530\n",
            "Epoch 25/30\n",
            "136630/136630 [==============================] - 41s 298us/sample - loss: 0.5307 - accuracy: 0.8149 - val_loss: 1.1695 - val_accuracy: 0.5456\n",
            "Epoch 26/30\n",
            "136630/136630 [==============================] - 41s 301us/sample - loss: 0.5346 - accuracy: 0.8169 - val_loss: 1.0507 - val_accuracy: 0.5501\n",
            "Epoch 27/30\n",
            "136630/136630 [==============================] - 41s 298us/sample - loss: 0.5299 - accuracy: 0.8160 - val_loss: 1.0337 - val_accuracy: 0.5524\n",
            "Epoch 28/30\n",
            "136630/136630 [==============================] - 41s 298us/sample - loss: 0.5328 - accuracy: 0.8161 - val_loss: 1.0868 - val_accuracy: 0.5460\n",
            "Epoch 29/30\n",
            "136630/136630 [==============================] - 41s 299us/sample - loss: 0.5341 - accuracy: 0.8172 - val_loss: 1.0622 - val_accuracy: 0.5516\n",
            "Epoch 30/30\n",
            "136630/136630 [==============================] - 40s 296us/sample - loss: 0.5385 - accuracy: 0.8182 - val_loss: 0.9995 - val_accuracy: 0.5495\n"
          ],
          "name": "stdout"
        }
      ]
    },
    {
      "cell_type": "code",
      "metadata": {
        "id": "BbXQoFbR5Fng",
        "colab_type": "code",
        "colab": {}
      },
      "source": [
        "import matplotlib.pyplot as plt\n",
        "%matplotlib inline\n",
        "\n",
        "plt.plot(history.history['accuracy'])\n",
        "plt.plot(history.history['val_accuracy'])\n",
        "plt.title('model accuracy')\n",
        "plt.ylabel('accuracy')\n",
        "plt.xlabel('epoch')\n",
        "plt.legend(['train', 'validation'], loc='upper left')\n",
        "plt.show()\n",
        "\n",
        "plt.plot(history.history['loss'])\n",
        "plt.plot(history.history['val_loss'])\n",
        "plt.title('model loss')\n",
        "plt.ylabel('loss')\n",
        "plt.xlabel('epoch')\n",
        "plt.legend(['train', 'validation'], loc='upper left')\n",
        "plt.show()"
      ],
      "execution_count": 0,
      "outputs": []
    },
    {
      "cell_type": "code",
      "metadata": {
        "id": "nctoKeWSFhJW",
        "colab_type": "code",
        "colab": {}
      },
      "source": [
        "model.save_weights('weight.h5')"
      ],
      "execution_count": 0,
      "outputs": []
    },
    {
      "cell_type": "code",
      "metadata": {
        "id": "jKBCI-01GQHN",
        "colab_type": "code",
        "colab": {}
      },
      "source": [
        "test_sentences = input_fn(dataset['test']['sentences'], data_params)\n",
        "test_labels = np.asarray([int(label) for label in dataset['test']['labels']])\n",
        "\n",
        "loss, acc = model.evaluate(test_sentences, test_labels)\n",
        "print(loss, acc)"
      ],
      "execution_count": 0,
      "outputs": []
    }
  ]
}