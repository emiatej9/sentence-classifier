{
  "nbformat": 4,
  "nbformat_minor": 0,
  "metadata": {
    "colab": {
      "name": "convolutional_neural_networks_for_sentence_classification.ipynb",
      "provenance": [],
      "collapsed_sections": [],
      "machine_shape": "hm",
      "mount_file_id": "1l6mq7e66Kl0VU-Lf-J8Sw2I3AfbCxhUu",
      "authorship_tag": "ABX9TyOjOtj+nfR+I6nBLjdFNpou",
      "include_colab_link": true
    },
    "kernelspec": {
      "name": "python3",
      "display_name": "Python 3"
    },
    "accelerator": "GPU"
  },
  "cells": [
    {
      "cell_type": "markdown",
      "metadata": {
        "id": "view-in-github",
        "colab_type": "text"
      },
      "source": [
        "<a href=\"https://colab.research.google.com/github/emiatej9/sentence-classifier/blob/master/colab/cnn_yoon_kim_2014.ipynb\" target=\"_parent\"><img src=\"https://colab.research.google.com/assets/colab-badge.svg\" alt=\"Open In Colab\"/></a>"
      ]
    },
    {
      "cell_type": "code",
      "metadata": {
        "id": "jnbnzP8-tCN7",
        "colab_type": "code",
        "colab": {}
      },
      "source": [
        "%tensorflow_version 2.x"
      ],
      "execution_count": 0,
      "outputs": []
    },
    {
      "cell_type": "code",
      "metadata": {
        "id": "xfAzxHwNt2IS",
        "colab_type": "code",
        "colab": {}
      },
      "source": [
        "import json\n",
        "import requests\n",
        "import os\n",
        "import tensorflow as tf\n",
        "import numpy as np\n",
        "\n",
        "git_url = 'https://raw.githubusercontent.com/emiatej9/sentence-classifier/master'\n",
        "\n",
        "tf.keras.backend.clear_session()"
      ],
      "execution_count": 0,
      "outputs": []
    },
    {
      "cell_type": "markdown",
      "metadata": {
        "id": "WH_zdFceNDok",
        "colab_type": "text"
      },
      "source": [
        "# nsmc 데이터셋 다운로드 \n",
        "\n",
        "\n",
        "*   mecab를 이용하여 미리 전처리 된 데이터셋을 다운로드(./data/nsmc)\n",
        "*   전처리에 대한 내용은 https://github.com/emiatej9/sentence-classifier/blob/master/build_dataset.py#L50 을 참고.\n",
        "*   문장과 sentences.txt와 긍/부정 라벨 labels.txt을 train, dev, test 별로 저장함\n",
        "\n"
      ]
    },
    {
      "cell_type": "code",
      "metadata": {
        "id": "x5siUFxoGLQM",
        "colab_type": "code",
        "colab": {}
      },
      "source": [
        "dataset_path = 'data/nsmc'\n",
        "dataset_files = {\n",
        "    'train': ('train/sentences.txt', 'train/labels.txt'),\n",
        "    'dev': ('dev/sentences.txt', 'dev/labels.txt'),\n",
        "    'test': ('test/sentences.txt', 'test/labels.txt')}\n",
        "\n",
        "# all dataset splits are loaded into dict object\n",
        "dataset = {\n",
        "    'train': dict(),\n",
        "    'dev': dict(),\n",
        "    'test': dict()\n",
        "}\n",
        "\n",
        "if not os.path.exists(dataset_path):\n",
        "    os.makedirs(dataset_path)\n",
        "\n",
        "for split, files  in dataset_files.items():\n",
        "    _path = f'{dataset_path}/{split}'\n",
        "    if not os.path.exists(_path):\n",
        "        os.makedirs(_path)\n",
        "\n",
        "    with open(f'{_path}/sentences.txt', 'w', encoding='utf-8') as f:\n",
        "        # download dataset from github\n",
        "        _url = f'{git_url}/{dataset_path}/{files[0]}'\n",
        "        _res = requests.get(_url)\n",
        "        assert _res.status_code == 200, _url\n",
        "\n",
        "        # save dataset as txt file\n",
        "        sentences = _res.content.decode('utf-8')\n",
        "        f.write(sentences)\n",
        "        dataset[split]['sentences'] = sentences.split('\\n')\n",
        "        \n",
        "    \n",
        "    with open(f'{_path}/labels.txt', 'w', encoding='utf-8') as f:\n",
        "        _url = f'{git_url}/{dataset_path}/{files[1]}'\n",
        "        _res = requests.get(_url)\n",
        "        assert _res.status_code == 200, _url\n",
        "\n",
        "        labels = _res.content.decode('utf-8')\n",
        "        f.write(labels)\n",
        "        dataset[split]['labels'] = list(map(int, labels.split('\\n')))"
      ],
      "execution_count": 0,
      "outputs": []
    },
    {
      "cell_type": "markdown",
      "metadata": {
        "id": "oxnLzzK02ZJW",
        "colab_type": "text"
      },
      "source": [
        "# 파라미터 다운로드\n",
        "\n",
        "*   파라미터 JSON 파일 dataset_params.json, model_params.json, training_params.json 을 ./params 밑에 다운로드\n",
        "* 다운로드 후, 각 JSON 파일을 data_params, model_params, training_params 객체로 초기화.\n",
        "\n"
      ]
    },
    {
      "cell_type": "code",
      "metadata": {
        "id": "ziLpWzCUtqL1",
        "colab_type": "code",
        "colab": {}
      },
      "source": [
        "params_files = ('dataset_params.json', \n",
        "                'model_params.json', \n",
        "                'training_params.json')\n",
        "\n",
        "if not os.path.exists('./params'):\n",
        "    os.makedirs('./params')\n",
        "\n",
        "for params_file in params_files:\n",
        "    _url = f'{git_url}/params/{params_file}'\n",
        "    _res = requests.get(_url)\n",
        "    assert _res.status_code == 200, _url\n",
        "\n",
        "    with open(f'params/{params_file}', 'w', encoding='utf-8') as f:\n",
        "        param_json = _res.content.decode('utf-8')\n",
        "        f.write(param_json)\n",
        "        \n",
        "with open(f'params/dataset_params.json') as f:\n",
        "    data_params = json.load(f)\n",
        "\n",
        "with open(f'params/model_params.json') as f:\n",
        "    model_params = json.load(f)\n",
        "\n",
        "with open(f'params/training_params.json') as f:\n",
        "    training_params = json.load(f)"
      ],
      "execution_count": 0,
      "outputs": []
    },
    {
      "cell_type": "markdown",
      "metadata": {
        "id": "vWSDR9U25sE7",
        "colab_type": "text"
      },
      "source": [
        "# 모델 다운로드\n",
        "\n",
        "*   ./models 아래에 input_fn.py, model_fn.fy 다운로드\n",
        "\n"
      ]
    },
    {
      "cell_type": "code",
      "metadata": {
        "id": "H9Z-vj11blQp",
        "colab_type": "code",
        "colab": {}
      },
      "source": [
        "if not os.path.exists('./model'):\n",
        "    os.makedirs('./model')\n",
        "\n",
        "# downloads input_fn.py \n",
        "_url = f'{git_url}/model/input_fn.py'\n",
        "_res = requests.get(_url)\n",
        "assert _res.status_code == 200, _url\n",
        "\n",
        "with open(f'model/input_fn.py', 'w', encoding='utf-8') as f:\n",
        "        input_fn_py = _res.content.decode('utf-8')\n",
        "        f.write(input_fn_py)\n",
        "\n",
        "# downloads model_fn.py\n",
        "_url = f'{git_url}/model/model_fn.py'\n",
        "_res = requests.get(_url)\n",
        "assert _res.status_code == 200, _url\n",
        "\n",
        "with open(f'model/model_fn.py', 'w', encoding='utf-8') as f:\n",
        "        model_fn_py = _res.content.decode('utf-8')\n",
        "        f.write(model_fn_py)\n",
        "        \n",
        "from model.input_fn import input_fn\n",
        "from model.model_fn import model_fn"
      ],
      "execution_count": 0,
      "outputs": []
    },
    {
      "cell_type": "markdown",
      "metadata": {
        "id": "uzd-sfOC5pz_",
        "colab_type": "text"
      },
      "source": [
        "# 데이터 정수 인코딩\n",
        "\n",
        "\n",
        "*   input_fn에서 각 단어를 정수 인코딩, 문장을 벡터로 변환 후 동일한 길이로 padding 처리.\n",
        "*   vocab의 크기와 문장 벡터의 차원은 data_params['vocab_size']과 data_params['max_sentence_length']을 이용.\n",
        "*   긍정(1)과 부정(0) label은 바로 numpy 형태로 변환\n",
        "\n"
      ]
    },
    {
      "cell_type": "code",
      "metadata": {
        "id": "GzI1IEHT5Wfn",
        "colab_type": "code",
        "colab": {}
      },
      "source": [
        "training_sentences = input_fn(dataset['train']['sentences'], data_params)\n",
        "training_labels = np.asarray([label for label in dataset['train']['labels']])\n",
        "dev_sentences = input_fn(dataset['dev']['sentences'], data_params)\n",
        "dev_labels = np.asarray([label for label in dataset['dev']['labels']])"
      ],
      "execution_count": 0,
      "outputs": []
    },
    {
      "cell_type": "markdown",
      "metadata": {
        "id": "1B0EyeF87P7v",
        "colab_type": "text"
      },
      "source": [
        "# 모델 생성"
      ]
    },
    {
      "cell_type": "code",
      "metadata": {
        "id": "StefzCyItby2",
        "colab_type": "code",
        "colab": {}
      },
      "source": [
        "model = model_fn(data_params, model_params)\n",
        "model.compile(loss='binary_crossentropy', optimizer='adam', metrics=['accuracy'])\n",
        "# print(model.summary())"
      ],
      "execution_count": 0,
      "outputs": []
    },
    {
      "cell_type": "markdown",
      "metadata": {
        "id": "IUZA7YLg7eLa",
        "colab_type": "text"
      },
      "source": [
        "# 모델 학습"
      ]
    },
    {
      "cell_type": "code",
      "metadata": {
        "id": "6Przx2gE3OML",
        "colab_type": "code",
        "outputId": "008957d6-4c55-4295-be3e-30e5340b21ca",
        "colab": {
          "base_uri": "https://localhost:8080/",
          "height": 68
        }
      },
      "source": [
        "batch_size = training_params['batch_size']\n",
        "epochs = training_params['epochs']\n",
        "\n",
        "with tf.device('/GPU:0'):\n",
        "    history = model.fit(training_sentences, training_labels, \n",
        "                        batch_size=batch_size,\n",
        "                        epochs=epochs,\n",
        "                        validation_data=(dev_sentences, dev_labels),\n",
        "                        shuffle=True)"
      ],
      "execution_count": 0,
      "outputs": [
        {
          "output_type": "stream",
          "text": [
            "Train on 136967 samples, validate on 29350 samples\n",
            "Epoch 1/30\n",
            " 51424/136967 [==========>...................] - ETA: 4:33 - loss: 0.7357 - accuracy: 0.5120"
          ],
          "name": "stdout"
        }
      ]
    },
    {
      "cell_type": "code",
      "metadata": {
        "id": "BbXQoFbR5Fng",
        "colab_type": "code",
        "colab": {}
      },
      "source": [
        "import matplotlib.pyplot as plt\n",
        "%matplotlib inline\n",
        "\n",
        "plt.plot(history.history['accuracy'])\n",
        "plt.plot(history.history['val_accuracy'])\n",
        "plt.title('model accuracy')\n",
        "plt.ylabel('accuracy')\n",
        "plt.xlabel('epoch')\n",
        "plt.legend(['train', 'validation'], loc='upper left')\n",
        "plt.show()\n",
        "\n",
        "plt.plot(history.history['loss'])\n",
        "plt.plot(history.history['val_loss'])\n",
        "plt.title('model loss')\n",
        "plt.ylabel('loss')\n",
        "plt.xlabel('epoch')\n",
        "plt.legend(['train', 'validation'], loc='upper left')\n",
        "plt.show()"
      ],
      "execution_count": 0,
      "outputs": []
    },
    {
      "cell_type": "code",
      "metadata": {
        "id": "nctoKeWSFhJW",
        "colab_type": "code",
        "colab": {}
      },
      "source": [
        "model.save_weights('weight.h5')"
      ],
      "execution_count": 0,
      "outputs": []
    },
    {
      "cell_type": "code",
      "metadata": {
        "id": "jKBCI-01GQHN",
        "colab_type": "code",
        "colab": {}
      },
      "source": [
        "test_sentences = input_fn(dataset['test']['sentences'], data_params)\n",
        "test_labels = np.asarray([int(label) for label in dataset['test']['labels']])\n",
        "\n",
        "loss, acc = model.evaluate(test_sentences, test_labels)\n",
        "print(loss, acc)"
      ],
      "execution_count": 0,
      "outputs": []
    }
  ]
}